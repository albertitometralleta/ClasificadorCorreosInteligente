{
  "cells": [
    {
      "cell_type": "markdown",
      "metadata": {},
      "source": [
        "## Importación de librerías"
      ]
    },
    {
      "cell_type": "markdown",
      "metadata": {},
      "source": [
        "En esta celda se importan las librerías necesarias para el análisis y el procesamiento de datos, así como las herramientas para la creación y evaluación de modelos de Machine Learning.\n",
        "\n",
        "- `pandas`: Para la manipulación y análisis de datos, especialmente con DataFrames.\n",
        "- `seaborn`: Para la visualización de datos estadísticos.\n",
        "- `matplotlib.pyplot`: Para crear gráficos y visualizaciones.\n",
        "- `BeautifulSoup`: Para la extracción de datos de HTML (web scraping).\n",
        "- `re`: Para trabajar con expresiones regulares, útil en la limpieza de datos.\n",
        "- `nltk`: Natural Language Toolkit, para el procesamiento y análisis de texto.\n",
        "- `stopwords` de `nltk`: Para eliminar palabras comunes que no aportan significado (como \"y\", \"de\", \"la\", etc.).\n",
        "- `TfidfVectorizer`: Para la vectorización de texto mediante el cálculo de la frecuencia de términos.\n",
        "- `hstack` de `scipy.sparse`: Para combinar matrices dispersas.\n",
        "- `string`: Para manipular cadenas de texto.\n",
        "- `train_test_split` de `sklearn.model_selection`: Para dividir el conjunto de datos en entrenamiento y prueba.\n",
        "- `XGBClassifier` de `xgboost`: Para el clasificador de árboles de decisión basado en el algoritmo XGBoost.\n",
        "- `classification_report` y `confusion_matrix` de `sklearn.metrics`: Para evaluar el rendimiento del modelo con métricas como precisión, recall y f1-score, además de la matriz de confusión."
      ]
    },
    {
      "cell_type": "code",
      "execution_count": 39,
      "metadata": {
        "id": "1tXRfep8pTNA"
      },
      "outputs": [],
      "source": [
        "import pandas as pd\n",
        "import seaborn as sns\n",
        "import matplotlib.pyplot as plt\n",
        "from bs4 import BeautifulSoup\n",
        "import re\n",
        "import nltk\n",
        "from nltk.corpus import stopwords\n",
        "from sklearn.feature_extraction.text import TfidfVectorizer\n",
        "from scipy.sparse import hstack\n",
        "import string\n",
        "from sklearn.model_selection import train_test_split\n",
        "from xgboost import XGBClassifier\n",
        "from sklearn.metrics import classification_report\n",
        "from sklearn.metrics import confusion_matrix\n"
      ]
    },
    {
      "cell_type": "markdown",
      "metadata": {},
      "source": [
        "## Análisis exploratorio de datos"
      ]
    },
    {
      "cell_type": "markdown",
      "metadata": {},
      "source": [
        "En este apartado se cargan los conjuntos de datos que se utilizarán para el análisis. Los datos provienen de dos fuentes diferentes:\n",
        "\n",
        "1. **Dataset de Phishing:** \n",
        "   - Se carga el archivo `CEAS_08.csv`, que contiene un conjunto de datos de correos electrónicos relacionados con phishing. Este conjunto de datos se obtiene de Kaggle: [Phishing Email Dataset](https://www.kaggle.com/datasets/naserabdullahalam/phishing-email-dataset/data).\n",
        "   \n",
        "2. **Dataset de Spam:**\n",
        "   - Se carga el archivo `combined_data.csv`, que contiene un conjunto de datos de correos electrónicos clasificados como spam o no spam. Este conjunto de datos proviene de Kaggle: [Email Spam Classification Dataset](https://www.kaggle.com/datasets/purusinghvi/email-spam-classification-dataset).\n",
        "\n",
        "Ambos archivos se cargan en objetos `DataFrame` de `pandas` para su posterior procesamiento y análisis.\n",
        "\n",
        "En ambos conjuntos de datos, la columna **`label`** indica si el correo es **Ham (0)**, es decir, no peligroso, o **Spam/Phishing (1)** según corresponda en cada dataset."
      ]
    },
    {
      "cell_type": "code",
      "execution_count": 40,
      "metadata": {},
      "outputs": [],
      "source": [
        "#https://www.kaggle.com/datasets/naserabdullahalam/phishing-email-dataset/data\n",
        "phishing_data = pd.read_csv('../datasets/CEAS_08.csv')\n",
        "#https://www.kaggle.com/datasets/purusinghvi/email-spam-classification-dataset\n",
        "spam_data = pd.read_csv('../datasets/combined_data.csv')"
      ]
    },
    {
      "cell_type": "markdown",
      "metadata": {},
      "source": [
        "En esta celda se genera una gráfica de barras que compara la cantidad de elementos etiquetados como `label 1` en los datasets de **Phishing** y **Spam**. \n",
        "\n",
        "- **Phishing Data:** Corresponde a los correos electrónicos relacionados con el phishing, donde `label 1` indica correos phishing.\n",
        "- **Spam Data:** Corresponde a los correos electrónicos clasificados como spam, donde `label 1` indica correos spam.\n",
        "\n",
        "La gráfica muestra la cantidad de registros etiquetados como `label 1` en cada uno de los datasets, lo que permite visualizar y comparar la prevalencia de correos considerados peligrosos (Phishing/Spam) en cada conjunto de datos."
      ]
    },
    {
      "cell_type": "code",
      "execution_count": 41,
      "metadata": {},
      "outputs": [
        {
          "data": {
            "image/png": "[encoded data removed]",
            "text/plain": [
              "<Figure size 800x600 with 1 Axes>"
            ]
          },
          "metadata": {},
          "output_type": "display_data"
        }
      ],
      "source": [
        "# Contar la cantidad de label 1 en cada dataset\n",
        "phishing_label_1_count = phishing_data[phishing_data['label'] == 1].shape[0]\n",
        "spam_label_1_count = spam_data[spam_data['label'] == 1].shape[0]\n",
        "\n",
        "# Crear una lista con los nombres de los datasets y sus respectivas cantidades de label 1\n",
        "datasets = ['Phishing Data', 'Spam Data']\n",
        "label_1_counts = [phishing_label_1_count, spam_label_1_count]\n",
        "\n",
        "# Crear la gráfica\n",
        "plt.figure(figsize=(8, 6))\n",
        "plt.bar(datasets, label_1_counts, color=['blue', 'orange'])\n",
        "\n",
        "# Añadir etiquetas y título\n",
        "plt.title('Elements with label 1: Phishing vs Spam')\n",
        "\n",
        "# Mostrar la gráfica\n",
        "plt.show()"
      ]
    },
    {
      "cell_type": "markdown",
      "metadata": {},
      "source": [
        "Se imprimen las columnas de ambos conjuntos de datos para tener una visión general de las características disponibles en cada uno."
      ]
    },
    {
      "cell_type": "code",
      "execution_count": 42,
      "metadata": {},
      "outputs": [
        {
          "name": "stdout",
          "output_type": "stream",
          "text": [
            "Index(['sender', 'receiver', 'date', 'subject', 'body', 'label', 'urls'], dtype='object')\n",
            "Index(['label', 'text'], dtype='object')\n"
          ]
        }
      ],
      "source": [
        "print(phishing_data.columns)\n",
        "print(spam_data.columns)"
      ]
    },
    {
      "cell_type": "markdown",
      "metadata": {},
      "source": [
        "1. Se crea una nueva columna en el conjunto de datos de phishing que combina las columnas 'subject' y 'body' en una sola columna 'text'.\n",
        "2. Se eliminan las columnas innecesarias en `phishing_data` como 'sender', 'receiver', 'date', 'subject', 'body' y 'urls'.\n",
        "3. En `spam_data`, se seleccionan solo las columnas 'label' y 'text'.\n",
        "4. Se reemplaza el valor '1' en la columna 'label' por '2' para modificar las clases del dataset de spam."
      ]
    },
    {
      "cell_type": "code",
      "execution_count": 43,
      "metadata": {},
      "outputs": [],
      "source": [
        "# 1\n",
        "phishing_data['text'] = phishing_data['subject'].fillna('') + ' ' + phishing_data['body'].fillna('')\n",
        "# 2\n",
        "phishing_data = phishing_data.drop(columns=['sender', 'receiver', 'date', 'subject', 'body', 'urls'])\n",
        "# 3\n",
        "spam_data = spam_data[['label', 'text' ]]\n",
        "# 4\n",
        "spam_data['label'] = spam_data['label'].replace(1,2)"
      ]
    },
    {
      "cell_type": "code",
      "execution_count": 44,
      "metadata": {},
      "outputs": [
        {
          "name": "stdout",
          "output_type": "stream",
          "text": [
            "Index(['label', 'text'], dtype='object')\n",
            "Index(['label', 'text'], dtype='object')\n"
          ]
        }
      ],
      "source": [
        "print(phishing_data.columns)\n",
        "print(spam_data.columns)"
      ]
    },
    {
      "cell_type": "markdown",
      "metadata": {},
      "source": [
        "Ahora estudiemos la cantidad de datos etiquetados como 'Ham' en comparación con los demás datos"
      ]
    },
    {
      "cell_type": "code",
      "execution_count": 45,
      "metadata": {},
      "outputs": [
        {
          "data": {
            "image/png": "[encoded data removed]",
            "text/plain": [
              "<Figure size 640x480 with 1 Axes>"
            ]
          },
          "metadata": {},
          "output_type": "display_data"
        }
      ],
      "source": [
        "sns.countplot(x='label', data=phishing_data)\n",
        "plt.title(\"Class Distribution (0: Ham, 1: Phishing)\")\n",
        "plt.show()"
      ]
    },
    {
      "cell_type": "code",
      "execution_count": 46,
      "metadata": {},
      "outputs": [
        {
          "data": {
            "image/png": "[encoded data removed]",
            "text/plain": [
              "<Figure size 640x480 with 1 Axes>"
            ]
          },
          "metadata": {},
          "output_type": "display_data"
        }
      ],
      "source": [
        "spam_data.head(5)\n",
        "sns.countplot(x='label', data=spam_data)\n",
        "plt.title(\"Class Distribution (0: Ham, 2: Spam)\")\n",
        "plt.show()"
      ]
    },
    {
      "cell_type": "markdown",
      "metadata": {},
      "source": [
        "En esta celda se combinan los datasets de **Phishing** y **Spam** utilizando la función `pd.concat`. Los dos conjuntos de datos se concatenan de forma vertical (por filas) y se reinicia el índice para que sea único en el nuevo `DataFrame` resultante, `mail_data`. \n"
      ]
    },
    {
      "cell_type": "code",
      "execution_count": 47,
      "metadata": {},
      "outputs": [
        {
          "data": {
            "text/html": [
              "<div>\n",
              "<style scoped>\n",
              "    .dataframe tbody tr th:only-of-type {\n",
              "        vertical-align: middle;\n",
              "    }\n",
              "\n",
              "    .dataframe tbody tr th {\n",
              "        vertical-align: top;\n",
              "    }\n",
              "\n",
              "    .dataframe thead th {\n",
              "        text-align: right;\n",
              "    }\n",
              "</style>\n",
              "<table border=\"1\" class=\"dataframe\">\n",
              "  <thead>\n",
              "    <tr style=\"text-align: right;\">\n",
              "      <th></th>\n",
              "      <th>label</th>\n",
              "      <th>text</th>\n",
              "    </tr>\n",
              "  </thead>\n",
              "  <tbody>\n",
              "    <tr>\n",
              "      <th>0</th>\n",
              "      <td>1</td>\n",
              "      <td>Never agree to be a loser Buck up, your troubl...</td>\n",
              "    </tr>\n",
              "    <tr>\n",
              "      <th>1</th>\n",
              "      <td>1</td>\n",
              "      <td>Befriend Jenna Jameson \\nUpgrade your sex and ...</td>\n",
              "    </tr>\n",
              "    <tr>\n",
              "      <th>2</th>\n",
              "      <td>1</td>\n",
              "      <td>CNN.com Daily Top 10 &gt;+=+=+=+=+=+=+=+=+=+=+=+=...</td>\n",
              "    </tr>\n",
              "    <tr>\n",
              "      <th>3</th>\n",
              "      <td>0</td>\n",
              "      <td>Re: svn commit: r619753 - in /spamassassin/tru...</td>\n",
              "    </tr>\n",
              "    <tr>\n",
              "      <th>4</th>\n",
              "      <td>1</td>\n",
              "      <td>SpecialPricesPharmMoreinfo \\nWelcomeFastShippi...</td>\n",
              "    </tr>\n",
              "    <tr>\n",
              "      <th>...</th>\n",
              "      <td>...</td>\n",
              "      <td>...</td>\n",
              "    </tr>\n",
              "    <tr>\n",
              "      <th>39151</th>\n",
              "      <td>0</td>\n",
              "      <td>Slideshow viewer Hello there ! \\nGreat work on...</td>\n",
              "    </tr>\n",
              "    <tr>\n",
              "      <th>39152</th>\n",
              "      <td>0</td>\n",
              "      <td>Note on 2-digit years \\nMail from sender , com...</td>\n",
              "    </tr>\n",
              "    <tr>\n",
              "      <th>39153</th>\n",
              "      <td>0</td>\n",
              "      <td>[Python-Dev] PEP 370 heads up Dear fellow Pyth...</td>\n",
              "    </tr>\n",
              "    <tr>\n",
              "      <th>39154</th>\n",
              "      <td>1</td>\n",
              "      <td>hello, we attach a list of staff and universi...</td>\n",
              "    </tr>\n",
              "    <tr>\n",
              "      <th>39155</th>\n",
              "      <td>1</td>\n",
              "      <td>hello, we attach a list of staff and universi...</td>\n",
              "    </tr>\n",
              "  </tbody>\n",
              "</table>\n",
              "<p>39156 rows × 2 columns</p>\n",
              "</div>"
            ],
            "text/plain": [
              "       label                                               text\n",
              "0          1  Never agree to be a loser Buck up, your troubl...\n",
              "1          1  Befriend Jenna Jameson \\nUpgrade your sex and ...\n",
              "2          1  CNN.com Daily Top 10 >+=+=+=+=+=+=+=+=+=+=+=+=...\n",
              "3          0  Re: svn commit: r619753 - in /spamassassin/tru...\n",
              "4          1  SpecialPricesPharmMoreinfo \\nWelcomeFastShippi...\n",
              "...      ...                                                ...\n",
              "39151      0  Slideshow viewer Hello there ! \\nGreat work on...\n",
              "39152      0  Note on 2-digit years \\nMail from sender , com...\n",
              "39153      0  [Python-Dev] PEP 370 heads up Dear fellow Pyth...\n",
              "39154      1   hello, we attach a list of staff and universi...\n",
              "39155      1   hello, we attach a list of staff and universi...\n",
              "\n",
              "[39156 rows x 2 columns]"
            ]
          },
          "execution_count": 47,
          "metadata": {},
          "output_type": "execute_result"
        }
      ],
      "source": [
        "mail_data = pd.concat([phishing_data, spam_data], ignore_index=True)\n",
        "mail_data.info\n",
        "phishing_data"
      ]
    },
    {
      "cell_type": "code",
      "execution_count": 14,
      "metadata": {},
      "outputs": [
        {
          "data": {
            "image/png": "[encoded data removed]",
            "text/plain": [
              "<Figure size 640x480 with 1 Axes>"
            ]
          },
          "metadata": {},
          "output_type": "display_data"
        }
      ],
      "source": [
        "sns.countplot(x='label', data=mail_data)\n",
        "plt.title(\"Class Distribution (0: Ham, 1: Phishing, 2: Spam)\")\n",
        "plt.show()"
      ]
    },
    {
      "cell_type": "markdown",
      "metadata": {},
      "source": [
        "En esta celda se realizan dos operaciones clave para preparar los conjuntos de datos para el entrenamiento:\n",
        "\n",
        "1. **Modificación de las etiquetas en `mail_data`:**\n",
        "   - Se reemplazan las etiquetas `2` en el conjunto de datos `mail_data` por `1`. Esto es porque en el conjunto de datos original, la etiqueta `2` representa un correo como **Spam**, pero se necesita que en `mail_data` sólo haya dos categorías: **Ham (0)** y **Spam (1)**. Esta modificación prepara `mail_data` para ser entrenado con la tarea de clasificar un correo entre **ham** (no peligroso) y **spam** (peligroso).\n",
        "\n",
        "2. **Creación del conjunto de datos `malicious_data`:**\n",
        "   - Se combina `spam_data` y `phishing_data` en un nuevo `DataFrame` llamado `malicious_data`. Este conjunto de datos se utiliza para distinguir entre **spam inofensivo** (etiquetado como `0`) y **phishing** (etiquetado como `1`).\n",
        "   - Primero, se filtra el conjunto para eliminar los correos clasificados como **ham** (`label == 0`), ya que solo se quiere trabajar con correos que están etiquetados como spam o phishing.\n",
        "   - Posteriormente, las etiquetas `2` (representando spam) se reemplazan por `0` para distinguir entre **spam inofensivo (0)** y **phishing (1)**, de acuerdo con la nueva clasificación.\n",
        "\n",
        "Ambos conjuntos, `mail_data` y `malicious_data`, serán utilizados para entrenar modelos de clasificación en diferentes tareas: el primero para clasificar **ham** y **spam**, y el segundo para identificar si un correo spam es **inofensivo** o **phishing**."
      ]
    },
    {
      "cell_type": "code",
      "execution_count": 15,
      "metadata": {},
      "outputs": [
        {
          "data": {
            "text/html": [
              "<div>\n",
              "<style scoped>\n",
              "    .dataframe tbody tr th:only-of-type {\n",
              "        vertical-align: middle;\n",
              "    }\n",
              "\n",
              "    .dataframe tbody tr th {\n",
              "        vertical-align: top;\n",
              "    }\n",
              "\n",
              "    .dataframe thead th {\n",
              "        text-align: right;\n",
              "    }\n",
              "</style>\n",
              "<table border=\"1\" class=\"dataframe\">\n",
              "  <thead>\n",
              "    <tr style=\"text-align: right;\">\n",
              "      <th></th>\n",
              "      <th>label</th>\n",
              "      <th>text</th>\n",
              "    </tr>\n",
              "  </thead>\n",
              "  <tbody>\n",
              "    <tr>\n",
              "      <th>2</th>\n",
              "      <td>0</td>\n",
              "      <td>dear customer it's not a secret that there are...</td>\n",
              "    </tr>\n",
              "    <tr>\n",
              "      <th>4</th>\n",
              "      <td>0</td>\n",
              "      <td>person see good not clean it crime on example ...</td>\n",
              "    </tr>\n",
              "    <tr>\n",
              "      <th>6</th>\n",
              "      <td>0</td>\n",
              "      <td>hot alert special situation alert tmxo trimax ...</td>\n",
              "    </tr>\n",
              "    <tr>\n",
              "      <th>8</th>\n",
              "      <td>0</td>\n",
              "      <td>escapelong escapelong escapelong escapelong es...</td>\n",
              "    </tr>\n",
              "    <tr>\n",
              "      <th>9</th>\n",
              "      <td>0</td>\n",
              "      <td>direct encrypted link del escapelong message i...</td>\n",
              "    </tr>\n",
              "    <tr>\n",
              "      <th>...</th>\n",
              "      <td>...</td>\n",
              "      <td>...</td>\n",
              "    </tr>\n",
              "    <tr>\n",
              "      <th>80869</th>\n",
              "      <td>1</td>\n",
              "      <td>Be larger than ever after 2 months The cure fo...</td>\n",
              "    </tr>\n",
              "    <tr>\n",
              "      <th>80870</th>\n",
              "      <td>1</td>\n",
              "      <td>CNN Alerts: My Custom Alert \\n\\n\\nCNN Alerts: ...</td>\n",
              "    </tr>\n",
              "    <tr>\n",
              "      <th>80872</th>\n",
              "      <td>1</td>\n",
              "      <td>Patients can access Our online health shop is ...</td>\n",
              "    </tr>\n",
              "    <tr>\n",
              "      <th>80873</th>\n",
              "      <td>1</td>\n",
              "      <td>CNN Alerts: My Custom Alert \\n\\nCNN Alerts: My...</td>\n",
              "    </tr>\n",
              "    <tr>\n",
              "      <th>80874</th>\n",
              "      <td>1</td>\n",
              "      <td>CNN Alerts: My Custom Alert \\n\\nCNN Alerts: My...</td>\n",
              "    </tr>\n",
              "  </tbody>\n",
              "</table>\n",
              "<p>43781 rows × 2 columns</p>\n",
              "</div>"
            ],
            "text/plain": [
              "       label                                               text\n",
              "2          0  dear customer it's not a secret that there are...\n",
              "4          0  person see good not clean it crime on example ...\n",
              "6          0  hot alert special situation alert tmxo trimax ...\n",
              "8          0  escapelong escapelong escapelong escapelong es...\n",
              "9          0  direct encrypted link del escapelong message i...\n",
              "...      ...                                                ...\n",
              "80869      1  Be larger than ever after 2 months The cure fo...\n",
              "80870      1  CNN Alerts: My Custom Alert \\n\\n\\nCNN Alerts: ...\n",
              "80872      1  Patients can access Our online health shop is ...\n",
              "80873      1  CNN Alerts: My Custom Alert \\n\\nCNN Alerts: My...\n",
              "80874      1  CNN Alerts: My Custom Alert \\n\\nCNN Alerts: My...\n",
              "\n",
              "[43781 rows x 2 columns]"
            ]
          },
          "execution_count": 15,
          "metadata": {},
          "output_type": "execute_result"
        }
      ],
      "source": [
        "#1\n",
        "mail_data['label'] = mail_data['label'].replace(2, 1)\n",
        "\n",
        "#2\n",
        "malicious_data = pd.concat([spam_data, phishing_data], ignore_index=True)\n",
        "malicious_data = malicious_data[malicious_data['label'] != 0]\n",
        "malicious_data['label'] = malicious_data['label'].replace(2, 0)\n",
        "\n",
        "malicious_data"
      ]
    },
    {
      "cell_type": "markdown",
      "metadata": {},
      "source": [
        "## Preprocesado de los datos"
      ]
    },
    {
      "cell_type": "markdown",
      "metadata": {},
      "source": [
        "### Funciones de preprocesado de datos para el modelo 1"
      ]
    },
    {
      "cell_type": "markdown",
      "metadata": {},
      "source": [
        "#### Funcion `limpiar_html`\n",
        "Esta función tiene como objetivo limpiar un texto que contiene etiquetas HTML y caracteres no deseados:\n",
        "\n",
        "1. **Eliminar etiquetas HTML:**\n",
        "   - Se utiliza `BeautifulSoup` para parsear el texto y extraer solo el contenido textual. `BeautifulSoup` convierte cualquier etiqueta HTML en texto sin formato, eliminando así cualquier código HTML como `<html>`, `<body>`, etc.\n",
        "\n",
        "2. **Eliminar caracteres no alfabéticos:**\n",
        "   - Luego, se usa una expresión regular (`re.sub`) para eliminar todos los caracteres que no sean letras (mayúsculas o minúsculas) ni espacios. Esto ayuda a limpiar el texto de caracteres especiales, números y otros símbolos no deseados."
      ]
    },
    {
      "cell_type": "code",
      "execution_count": 16,
      "metadata": {},
      "outputs": [],
      "source": [
        "def limpiar_html(texto):\n",
        "    # 1\n",
        "    texto_sin_html = BeautifulSoup(texto, \"html.parser\").get_text()\n",
        "    # 2\n",
        "    texto_limpio = re.sub(r'[^a-zA-Z\\s]', '', texto_sin_html)\n",
        "    return texto_limpio"
      ]
    },
    {
      "cell_type": "markdown",
      "metadata": {},
      "source": [
        "#### Función `eliminar_stopwords`\n",
        "\n",
        "Esta función elimina las **palabras de parada** (stopwords) de un texto.\n",
        "\n",
        "1. **Divide el texto en tokens** (palabras).\n",
        "2. **Filtra las palabras** que están en la lista de stopwords en inglés proporcionada por `nltk`.\n",
        "3. **Devuelve el texto** con las palabras de parada eliminadas.\n",
        "\n",
        "Es útil para enfocar el análisis solo en las palabras relevantes."
      ]
    },
    {
      "cell_type": "code",
      "execution_count": 17,
      "metadata": {},
      "outputs": [
        {
          "name": "stderr",
          "output_type": "stream",
          "text": [
            "[nltk_data] Downloading package stopwords to\n",
            "[nltk_data]     C:\\Users\\Alberto\\AppData\\Roaming\\nltk_data...\n",
            "[nltk_data]   Package stopwords is already up-to-date!\n"
          ]
        }
      ],
      "source": [
        "nltk.download('stopwords')\n",
        "stop_words = set(stopwords.words('english'))  \n",
        "\n",
        "def eliminar_stopwords(texto):\n",
        "    # 1\n",
        "    tokens = texto.split()\n",
        "    # 2\n",
        "    tokens_filtrados = [word for word in tokens if word not in stop_words]\n",
        "    # 3\n",
        "    return \" \".join(tokens_filtrados)"
      ]
    },
    {
      "cell_type": "markdown",
      "metadata": {},
      "source": [
        "#### Función `preprocess_text`\n",
        "\n",
        "Esta función realiza un **preprocesamiento completo** del texto:\n",
        "\n",
        "1. **Eliminar etiquetas HTML** usando `limpiar_html`.\n",
        "2. Convierte todo el texto a **minúsculas**.\n",
        "3. Elimina las **URLs** y direcciones **email** con expresiones regulares.\n",
        "4. Elimina los **números** y la **punctuación**.\n",
        "5. Elimina **espacios en blanco adicionales** con `strip()`.\n",
        "6. **Elimina las stopwords** utilizando la función `eliminar_stopwords`.\n",
        "\n",
        "Este proceso limpia y prepara los textos para un análisis posterior.\n",
        "\n",
        "La columna `clean_text` en el DataFrame `mail_data` contiene el texto preprocesado."
      ]
    },
    {
      "cell_type": "code",
      "execution_count": 18,
      "metadata": {},
      "outputs": [],
      "source": [
        "def preprocess_text(text):\n",
        "    #1\n",
        "    text = limpiar_html(text) \n",
        "    #2\n",
        "    text = text.lower()\n",
        "    #3\n",
        "    text = re.sub(r\"http\\S+\", \"\", text)                \n",
        "    text = re.sub(r\"\\S+@\\S+\", \"\", text) \n",
        "    #4                   \n",
        "    text = re.sub(r\"\\d+\", \"\", text)                         \n",
        "    text = text.translate(str.maketrans('', '', string.punctuation))  \n",
        "    #5\n",
        "    text = text.strip()\n",
        "    #6\n",
        "    text = eliminar_stopwords(text) \n",
        "    return text\n",
        "\n",
        "mail_data['clean_text'] = mail_data['text'].astype(str).apply(preprocess_text)"
      ]
    },
    {
      "cell_type": "markdown",
      "metadata": {},
      "source": [
        "### Funciones de preprocesado de datos para el modelo 2"
      ]
    },
    {
      "cell_type": "markdown",
      "metadata": {},
      "source": [
        "#### Función `light_clean`\n",
        "\n",
        "Esta función realiza una limpieza ligera del texto:\n",
        "\n",
        "1. **Verifica si el texto es una cadena** antes de aplicar el procesamiento.\n",
        "2. **Elimina espacios en blanco consecutivos** y los reemplaza por un único espacio para finalmente convertir todo a minuscula.\n",
        "3. Si el input **no es una cadena de caracteres**, la función devuelve una cadena vacía.\n",
        "\n"
      ]
    },
    {
      "cell_type": "code",
      "execution_count": 19,
      "metadata": {},
      "outputs": [],
      "source": [
        "def light_clean(text):\n",
        "    # 1\n",
        "    if isinstance(text, str):\n",
        "        # 2\n",
        "        return re.sub(r'\\s+', ' ', text).strip().lower()\n",
        "    # 3\n",
        "    return ''  # Si no es una cadena, devolver una cadena vacía \n",
        "\n",
        "malicious_data['text'] = malicious_data['text'].apply(light_clean)"
      ]
    },
    {
      "cell_type": "markdown",
      "metadata": {},
      "source": [
        "#### Función `extract_features`\n",
        "\n",
        "Esta función extrae características relevantes de un texto para determinar si un correo es potencialmente de **phishing**. Las características extraídas incluyen:\n",
        "\n",
        "1. **`num_links`:** Cuenta la cantidad de enlaces en el texto. Se detectan enlaces que comienzan con \"http\", \"www\", \"bit.ly\", \"tinyurl\" o \"chk.me\".\n",
        "2. **`has_form`:** Indica si el texto contiene un formulario HTML (buscando etiquetas `<form>` o `input type`).\n",
        "3. **`has_attachment`:** Señala si el texto menciona archivos adjuntos, como \".zip\" o \".exe\", o contiene la palabra \"attachment\".\n",
        "4. **`text_length`:** Longitud del texto en caracteres.\n",
        "5. **`num_phishing_keywords`:** Cuenta la cantidad de palabras clave relacionadas con phishing presentes en el texto. Se busca en el texto si contiene alguna de las palabras definidas en la lista `phishing_keywords`.\n",
        "\n",
        "Estas características son útiles para evaluar el riesgo de que un correo sea malicioso, como un ataque de phishing."
      ]
    },
    {
      "cell_type": "code",
      "execution_count": 20,
      "metadata": {},
      "outputs": [],
      "source": [
        "phishing_keywords = [\n",
        "    # Seguridad y cuenta\n",
        "    \"account\", \"password\", \"verify\", \"login\", \"update\", \"security\",\n",
        "    \"credentials\", \"unauthorized\", \"suspended\", \"compromised\", \"alert\", \"reset\",\n",
        "\n",
        "    # Urgencia o amenaza\n",
        "    \"urgent\", \"immediately\", \"action required\", \"important\", \"now\",\n",
        "    \"verify immediately\", \"failure\", \"final warning\", \"attention\", \"limited time\", \"response needed\",\n",
        "\n",
        "    # Recompensas, dinero o premios\n",
        "    \"winner\", \"congratulations\", \"free\", \"bonus\", \"refund\", \"claim\",\n",
        "    \"reward\", \"lottery\", \"prize\", \"gift card\", \"cash\",\n",
        "\n",
        "    # Enlaces o descargas\n",
        "    \"click here\", \"download\", \"open attachment\", \"access\", \"view\",\n",
        "    \"see details\", \"login link\", \"check now\", \"follow the link\",\n",
        "\n",
        "    # Entidades suplantadas\n",
        "    \"paypal\", \"apple\", \"amazon\", \"bank\", \"netflix\", \"support\",\n",
        "    \"help desk\", \"it department\", \"administrator\", \"system\", \"cnn\"\n",
        "]\n",
        "\n",
        "def extract_features(text):\n",
        "    text_lower = text.lower()\n",
        "    return {\n",
        "        # 1\n",
        "        'num_links': len(re.findall(r'http[s]?://|www\\.|bit\\.ly|tinyurl|chk\\.me', text_lower)),\n",
        "        # 2\n",
        "        'has_form': int(bool(re.search(r'<form|input type=', text_lower))),\n",
        "        # 3\n",
        "        'has_attachment': int('.zip' in text_lower or '.exe' in text_lower or 'attachment' in text_lower),\n",
        "        # 4\n",
        "        'text_length': len(text),\n",
        "        # 5\n",
        "        'num_phishing_keywords': sum(1 for kw in phishing_keywords if kw in text_lower),\n",
        "    }\n",
        "\n",
        "feature_data = malicious_data['text'].apply(extract_features).apply(pd.Series)\n"
      ]
    },
    {
      "cell_type": "markdown",
      "metadata": {},
      "source": [
        "### Vectorizado de datos y division en subconjuntos\n",
        "\n",
        "El **vectorizado de datos** es el proceso de convertir información en formato de texto o datos no estructurados en representaciones numéricas que puedan ser procesadas por algoritmos de machine learning. Esto es necesario porque los modelos de machine learning no pueden trabajar directamente con texto o datos no estructurados.\n",
        "\n",
        "Existen varias técnicas de vectorización, pero en este caso usaremos:\n",
        "\n",
        "- **TF-IDF (Term Frequency - Inverse Document Frequency):** Mide la importancia de una palabra en un documento, ponderando las palabras frecuentes en un documento pero raras en el conjunto de datos general.\n",
        "\n",
        "El vectorizado de datos es fundamental para que los modelos de machine learning puedan analizar y extraer patrones de los datos de manera efectiva.\n",
        "\n",
        "Luego, sobre cada conjunto de datos `X` (características) y de etiquetas `y`, dividimos en dos subconjuntos: uno para entrenamiento y otro para prueba. \n",
        "\n",
        "El resultado de esta operación son cuatro conjuntos:\n",
        "- `X_train` y `y_train`: Conjuntos para entrenar el modelo.\n",
        "- `X_test` y `y_test`: Conjuntos para evaluar el rendimiento del modelo después del entrenamiento."
      ]
    },
    {
      "cell_type": "markdown",
      "metadata": {},
      "source": [
        "#### Vectorizado y division en subconjuntos del dataset `mail_data` para el modelo 1"
      ]
    },
    {
      "cell_type": "code",
      "execution_count": 21,
      "metadata": {},
      "outputs": [],
      "source": [
        "# Vectorizado y creación de los conjuntos de entrada y salida\n",
        "vectorizer = TfidfVectorizer(max_features=7500)  \n",
        "X = vectorizer.fit_transform(mail_data['clean_text'])\n",
        "y = mail_data['label']  \n",
        "\n",
        "# Dividir el conjunto de datos en conjuntos de entrenamiento y prueba\n",
        "X_train, X_test, y_train, y_test = train_test_split(X, y, test_size=0.2, random_state=42, stratify=y)\n"
      ]
    },
    {
      "cell_type": "markdown",
      "metadata": {},
      "source": [
        "#### Vectorizado y division en subconjuntos del dataset `malicious_data` para el modelo 2"
      ]
    },
    {
      "cell_type": "code",
      "execution_count": 22,
      "metadata": {},
      "outputs": [],
      "source": [
        "# Vectorizado y creación de los conjuntos de entrada y salida\n",
        "vectorizer2 = TfidfVectorizer(max_features=5000, stop_words='english')\n",
        "X_malicious_text = vectorizer2.fit_transform(malicious_data['text'])\n",
        "y_malicious = malicious_data['label']  \n",
        "\n",
        "# Combinar dos conjuntos de características en un solo conjunto\n",
        "X_malicious_combined = hstack([X_malicious_text, feature_data])\n",
        "\n",
        "# Dividir el conjunto de datos en conjuntos de entrenamiento y prueba\n",
        "X_malicious_train, X_malicious_test, y_malicious_train, y_malicious_test = train_test_split(X_malicious_combined, y_malicious, test_size=0.2, random_state=42, stratify=y_malicious)\n"
      ]
    },
    {
      "cell_type": "markdown",
      "metadata": {},
      "source": [
        "## Entrenamiento, predicción y evaluación de los modelos"
      ]
    },
    {
      "cell_type": "markdown",
      "metadata": {},
      "source": [
        "### Entrenamiento y Evaluación de los Modelos\n",
        "\n",
        "En esta celda se entrenan y evalúan dos modelos de clasificación utilizando el algoritmo XGBoost (`XGBClassifier`):\n",
        "\n",
        "1. **Modelo Spam vs Ham:**\n",
        "   - El primer modelo (`model`) es entrenado utilizando el conjunto de datos `X_train` (características de los correos) y `y_train` (etiquetas Spam/Ham).\n",
        "   - Después del entrenamiento, se realiza la predicción sobre el conjunto de prueba `X_test` y se imprime el informe de clasificación (`classification_report`), que muestra métricas como precisión, recall y F1-score.\n",
        "\n",
        "2. **Modelo Spam vs Phishing:**\n",
        "   - El segundo modelo (`malicious_model`) se entrena utilizando un conjunto de datos modificado (`X_malicious_train` y `y_malicious_train`), donde se distinguen correos etiquetados como spam inofensivo y phishing.\n",
        "   - Tras el entrenamiento, se evalúa su rendimiento utilizando `X_malicious_test` y se imprime el informe de clasificación correspondiente.\n",
        "\n",
        "El parámetro `eval_metric='mlogloss'` en ambos modelos especifica que la métrica utilizada para evaluar el rendimiento durante el entrenamiento sea el logaritmo de la pérdida multinomial (log loss)"
      ]
    },
    {
      "cell_type": "code",
      "execution_count": 23,
      "metadata": {},
      "outputs": [
        {
          "name": "stdout",
          "output_type": "stream",
          "text": [
            "Spam vs Ham Classification Report:\n",
            "              precision    recall  f1-score   support\n",
            "\n",
            "           0       0.98      0.96      0.97      7420\n",
            "           1       0.97      0.99      0.98      8756\n",
            "\n",
            "    accuracy                           0.97     16176\n",
            "   macro avg       0.98      0.97      0.97     16176\n",
            "weighted avg       0.97      0.97      0.97     16176\n",
            "\n",
            "Spam vs Phishing Classification Report:\n",
            "              precision    recall  f1-score   support\n",
            "\n",
            "           0       0.98      0.99      0.99      4388\n",
            "           1       0.99      0.98      0.99      4369\n",
            "\n",
            "    accuracy                           0.99      8757\n",
            "   macro avg       0.99      0.99      0.99      8757\n",
            "weighted avg       0.99      0.99      0.99      8757\n",
            "\n"
          ]
        }
      ],
      "source": [
        "# 1\n",
        "model = XGBClassifier(eval_metric='mlogloss')\n",
        "model.fit(X_train, y_train)\n",
        "\n",
        "print(\"Spam vs Ham Classification Report:\")\n",
        "y_pred = model.predict(X_test)\n",
        "print(classification_report(y_test, y_pred))\n",
        "\n",
        "\n",
        "# 2\n",
        "malicious_model = XGBClassifier(eval_metric='mlogloss')\n",
        "malicious_model.fit(X_malicious_train, y_malicious_train)\n",
        "\n",
        "print(\"Spam vs Phishing Classification Report:\")\n",
        "y_pred_malicious = malicious_model.predict(X_malicious_test)\n",
        "print(classification_report(y_malicious_test, y_pred_malicious))"
      ]
    },
    {
      "cell_type": "markdown",
      "metadata": {},
      "source": [
        "### Matriz de confusion para cada modelo\n"
      ]
    },
    {
      "cell_type": "code",
      "execution_count": 24,
      "metadata": {},
      "outputs": [
        {
          "data": {
            "image/png": "[encoded data removed]",
            "text/plain": [
              "<Figure size 640x480 with 2 Axes>"
            ]
          },
          "metadata": {},
          "output_type": "display_data"
        }
      ],
      "source": [
        "cm = confusion_matrix(y_test, y_pred)\n",
        "sns.heatmap(cm, annot=True, fmt='d', cmap='Blues', xticklabels=['Ham', 'Spam'], yticklabels=['Ham', 'Spam' ])\n",
        "plt.xlabel(\"Predicted\")\n",
        "plt.ylabel(\"True\")\n",
        "plt.title(\"Confusion Matrix for Spam vs Ham\")\n",
        "plt.show()"
      ]
    },
    {
      "cell_type": "code",
      "execution_count": 25,
      "metadata": {},
      "outputs": [
        {
          "data": {
            "image/png": "[encoded data removed]",
            "text/plain": [
              "<Figure size 640x480 with 2 Axes>"
            ]
          },
          "metadata": {},
          "output_type": "display_data"
        }
      ],
      "source": [
        "cm_malicious = confusion_matrix(y_malicious_test, y_pred_malicious)\n",
        "sns.heatmap(cm_malicious, annot=True, fmt='d', cmap='Blues', xticklabels=['Spam', 'Phishing'], yticklabels=['Spam', 'Phishing' ])\n",
        "plt.xlabel(\"Predicted\")\n",
        "plt.ylabel(\"True\")\n",
        "plt.title(\"Confusion Matrix for Spam vs Phishing\")\n",
        "plt.show()"
      ]
    },
    {
      "cell_type": "markdown",
      "metadata": {},
      "source": [
        "## Ejemplo de salida"
      ]
    },
    {
      "cell_type": "code",
      "execution_count": 26,
      "metadata": {},
      "outputs": [],
      "source": [
        "def preprocess_email(text):\n",
        "    clean = preprocess_text(text) \n",
        "    return vectorizer.transform([clean])"
      ]
    },
    {
      "cell_type": "code",
      "execution_count": 27,
      "metadata": {},
      "outputs": [
        {
          "name": "stdout",
          "output_type": "stream",
          "text": [
            "Ham: 18.78%\n",
            "Spam: 81.22%\n",
            "\n",
            "Spam detectado. Analizando si es phishing o spam inofensivo...\n",
            "\n",
            "Spam inofensivo: 0.15%\n",
            "Phishing: 99.85%\n",
            "\n",
            "⚠️ Alerta: Este mensaje podría ser phishing.\n"
          ]
        }
      ],
      "source": [
        "\n",
        "\n",
        "# Suponiendo que tienes un correo de entrada para predecir\n",
        "new_email = '''Re: (Funds available) Application accepted Hello,\n",
        "\n",
        "Our university support team has offered you 650 euros to help finance your studies...\n",
        "You can access it by clicking: *https://financiaci=C3=B3n-ugr-es/consultar\n",
        "<https://chk.me/SE1wIGD>*\n",
        "\n",
        "Administraci=C3=B3n.\n",
        "*AINHARA GONZALEZ*\n",
        "'''\n",
        "vec = preprocess_email(new_email) \n",
        "# Realizamos la predicción de probabilidades usando predict_proba\n",
        "\n",
        "\n",
        "# Predicción con el modelo YA ENTRENADO\n",
        "probabilities = model.predict_proba(vec)\n",
        "\n",
        "# Probabilidades por clase\n",
        "class_names = ['Ham', 'Spam']  # Nombres de las clases\n",
        "\n",
        "# Mostrar las probabilidades en porcentaje\n",
        "probabilities_percent = probabilities[0] * 100  # Convertimos a porcentaje\n",
        "for class_name, prob in zip(class_names, probabilities_percent):\n",
        "    print(f\"{class_name}: {prob:.2f}%\")\n",
        "\n",
        "# Si la probabilidad de Spam supera el 50%, aplicar modelo de phishing\n",
        "spam_prob = probabilities[0][1]  # índice 1 corresponde a Spam\n",
        "if spam_prob > 0.5:\n",
        "    print(\"\\nSpam detectado. Analizando si es phishing o spam inofensivo...\\n\")\n",
        "\n",
        "    # Extraemos manual features \n",
        "    new_email = light_clean(new_email)  \n",
        "    features = extract_features(new_email)  # función que creas tú\n",
        "    feature_values = list(features.values())\n",
        "    vec_malicious = vectorizer2.transform([new_email])  # TF-IDF o similar\n",
        "    full_features = hstack([vec_malicious, feature_values])  # combinar TF-IDF + manual features\n",
        "\n",
        "    # Aplicar el modelo especializado\n",
        "    phishing_probs = malicious_model.predict_proba(full_features)[0]\n",
        "    labels = ['Spam inofensivo', 'Phishing']\n",
        "    for label, prob in zip(labels, phishing_probs):\n",
        "        print(f\"{label}: {prob*100:.2f}%\")\n",
        "    \n",
        "    # Mensaje resumen\n",
        "    if phishing_probs[1] > 0.5:\n",
        "        print(\"\\n⚠️ Alerta: Este mensaje podría ser phishing.\")\n",
        "    else:\n",
        "        print(\"\\n✅ Clasificado como spam inofensivo.\")"
      ]
    }
  ],
  "metadata": {
    "colab": {
      "provenance": []
    },
    "kernelspec": {
      "display_name": "Python 3",
      "name": "python3"
    },
    "language_info": {
      "codemirror_mode": {
        "name": "ipython",
        "version": 3
      },
      "file_extension": ".py",
      "mimetype": "text/x-python",
      "name": "python",
      "nbconvert_exporter": "python",
      "pygments_lexer": "ipython3",
      "version": "3.12.10"
    }
  },
  "nbformat": 4,
  "nbformat_minor": 0
}
